{
  "nbformat": 4,
  "nbformat_minor": 0,
  "metadata": {
    "colab": {
      "provenance": []
    },
    "kernelspec": {
      "name": "python3",
      "display_name": "Python 3"
    },
    "language_info": {
      "name": "python"
    }
  },
  "cells": [
    {
      "cell_type": "code",
      "execution_count": 25,
      "metadata": {
        "colab": {
          "base_uri": "https://localhost:8080/"
        },
        "id": "OJYK4JZ9t4gB",
        "outputId": "b710b8fc-2e8b-427a-937f-beab547aeb47"
      },
      "outputs": [
        {
          "output_type": "stream",
          "name": "stdout",
          "text": [
            "* \r\n",
            "* * \r\n",
            "* * * \r\n",
            "* * * * \r\n",
            "* * * * * \r\n",
            "* * * * \r\n",
            "* * * \r\n",
            "* * \r\n",
            "* \r\n",
            "\r\n"
          ]
        }
      ],
      "source": [
        "for i in range(0,5):\n",
        "  for j in range(0,i+1):\n",
        "    print(\"*\",end=\" \")\n",
        "  print(\"\\r\")\n",
        "for i in range(5,0,-1):\n",
        "  for j in range(0,i-1):\n",
        "    print(\"*\",end=\" \")\n",
        "  print(\"\\r\")\n",
        "\n"
      ]
    },
    {
      "cell_type": "code",
      "source": [
        "my_list = [10, 20, 30, 40, 50, 60, 70, 80, 90, 100]\n",
        "n=len(my_list)\n",
        "for i in range(0,n):\n",
        "  if(i%2!=0):\n",
        "    print(my_list[i])\n"
      ],
      "metadata": {
        "colab": {
          "base_uri": "https://localhost:8080/"
        },
        "id": "hSpUgX8Fvrlx",
        "outputId": "43e14e89-1f24-4c62-c8f8-1f424b1c3ff2"
      },
      "execution_count": 14,
      "outputs": [
        {
          "output_type": "stream",
          "name": "stdout",
          "text": [
            "20\n",
            "40\n",
            "60\n",
            "80\n",
            "100\n"
          ]
        }
      ]
    },
    {
      "cell_type": "code",
      "source": [
        "x=[23,'python',23.98]\n",
        "type_list=[]\n",
        "for i in x:\n",
        "  type_list.append(type(i))\n",
        "print(x)\n",
        "print(type_list)"
      ],
      "metadata": {
        "colab": {
          "base_uri": "https://localhost:8080/"
        },
        "id": "j8eCsEJtw58L",
        "outputId": "082de8f9-69c8-4bbc-f31d-6b34710b1be9"
      },
      "execution_count": 16,
      "outputs": [
        {
          "output_type": "stream",
          "name": "stdout",
          "text": [
            "[23, 'python', 23.98]\n",
            "[<class 'int'>, <class 'str'>, <class 'float'>]\n"
          ]
        }
      ]
    },
    {
      "cell_type": "code",
      "source": [
        "li=[1,2,3,3,3,3,4,5]\n",
        "#converting list into set to find unique values \n",
        "uniquelist=list(set(li))\n",
        "print(uniquelist)"
      ],
      "metadata": {
        "colab": {
          "base_uri": "https://localhost:8080/"
        },
        "id": "UGrqGm8fxaJw",
        "outputId": "c06a2c7a-c39b-4f84-e1ab-5a9b18b0cb69"
      },
      "execution_count": 18,
      "outputs": [
        {
          "output_type": "stream",
          "name": "stdout",
          "text": [
            "[1, 2, 3, 4, 5]\n"
          ]
        }
      ]
    },
    {
      "cell_type": "code",
      "source": [
        "st = 'The quick Brow Fox'\n",
        "uppercount=0\n",
        "lowercount=0\n",
        "for i in st:\n",
        "  if(i.isupper()):\n",
        "    uppercount=uppercount+1\n",
        "  else:\n",
        "    lowercount=lowercount+1\n",
        "print('total uppercase letters:',uppercount)\n",
        "print('total lowercase letters:',lowercount)"
      ],
      "metadata": {
        "colab": {
          "base_uri": "https://localhost:8080/"
        },
        "id": "gNgrfndPx-27",
        "outputId": "eb1014fc-db81-414d-f514-9d1ca801b4a5"
      },
      "execution_count": 21,
      "outputs": [
        {
          "output_type": "stream",
          "name": "stdout",
          "text": [
            "total uppercase letters: 3\n",
            "total lowercase letters: 15\n"
          ]
        }
      ]
    }
  ]
}