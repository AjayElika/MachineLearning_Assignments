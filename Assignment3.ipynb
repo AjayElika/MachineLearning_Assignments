{
  "nbformat": 4,
  "nbformat_minor": 0,
  "metadata": {
    "colab": {
      "provenance": []
    },
    "kernelspec": {
      "name": "python3",
      "display_name": "Python 3"
    },
    "language_info": {
      "name": "python"
    }
  },
  "cells": [
    {
      "cell_type": "markdown",
      "source": [],
      "metadata": {
        "id": "MZMsZg7tACxx"
      }
    },
    {
      "cell_type": "code",
      "execution_count": null,
      "metadata": {
        "colab": {
          "base_uri": "https://localhost:8080/"
        },
        "id": "VGJNJDjD9DgJ",
        "outputId": "b5f4b22e-7db8-4ebb-e932-9ffcea44c93d"
      },
      "outputs": [
        {
          "output_type": "stream",
          "name": "stdout",
          "text": [
            "[19 18  4  9  7 18 18 16  5 17  3  9  0  9 17]\n",
            "[[19 18  4  9  7]\n",
            " [18 18 16  5 17]\n",
            " [ 3  9  0  9 17]]\n",
            "(3, 5)\n",
            "[[ 0 18  4  9  7]\n",
            " [ 0 18 16  5 17]\n",
            " [ 3  9  0  9  0]]\n",
            "(4, 3)\n",
            "<class 'numpy.ndarray'>\n",
            "int32\n",
            "EigenValues: [2. 1.]\n",
            "Eigen Vectors: [[0.89442719 0.70710678]\n",
            " [0.4472136  0.70710678]]\n",
            "4\n",
            "[[1 2 3]\n",
            " [4 5 6]]\n",
            "[[1 2]\n",
            " [3 4]\n",
            " [5 6]]\n"
          ]
        }
      ],
      "source": [
        "#1a)\n",
        "import numpy as np\n",
        "ar=np.random.randint(0,21,size=15)\n",
        "print(ar)\n",
        "a=ar.reshape(3,5)\n",
        "print(a)\n",
        "print(a.shape)\n",
        "max_values=a.argmax(axis=1)\n",
        "for i,j in enumerate(max_values):\n",
        "  a[i,j]=0\n",
        "print(a)\n",
        "\n",
        "ar1=np.zeros((4,3),dtype=np.int32)\n",
        "print(ar1.shape)\n",
        "print(type(ar1))\n",
        "print(ar1.dtype)\n",
        "\n",
        "#1b)\n",
        "ar2=np.array([[3,-2],[1,0]])\n",
        "eigvals,eigvecs=np.linalg.eig(ar2)\n",
        "print(\"EigenValues:\",eigvals)\n",
        "print(\"Eigen Vectors:\",eigvecs)\n",
        "\n",
        "#1c)\n",
        "ar3=np.array([[0,1,2],[3,4,5]])\n",
        "sum_diag=np.trace(ar3)\n",
        "print(sum_diag)\n",
        "\n",
        "#1d)\n",
        "ar4=np.array([[1,2],[3,4],[5,6]])\n",
        "ar4_reshape1=ar4.reshape(2,3)\n",
        "ar4_reshape2=ar4.reshape(3,2)\n",
        "print(ar4_reshape1)\n",
        "print(ar4_reshape2)"
      ]
    },
    {
      "cell_type": "code",
      "source": [
        "#2)\n",
        "import matplotlib.pyplot as plt\n",
        "langs=['Java','Python','PHP','JavaScript','C#','C++']\n",
        "popular=[22.2,17.6,8.8,8,7.7,6.7]\n",
        "cols = ['c','m','r','b','g','y']\n",
        "plt.pie(popular,labels=langs,colors=cols,startangle=60)"
      ],
      "metadata": {
        "colab": {
          "base_uri": "https://localhost:8080/",
          "height": 456
        },
        "id": "4M_tUNgoHkej",
        "outputId": "b646ec13-dc1e-4cde-e364-e9aa114a28bc"
      },
      "execution_count": null,
      "outputs": [
        {
          "output_type": "execute_result",
          "data": {
            "text/plain": [
              "([<matplotlib.patches.Wedge at 0x7f06c13a0fd0>,\n",
              "  <matplotlib.patches.Wedge at 0x7f06c13a0f10>,\n",
              "  <matplotlib.patches.Wedge at 0x7f06c13bd7c0>,\n",
              "  <matplotlib.patches.Wedge at 0x7f06c13bdc40>,\n",
              "  <matplotlib.patches.Wedge at 0x7f06c13aa100>,\n",
              "  <matplotlib.patches.Wedge at 0x7f06c13aa580>],\n",
              " [Text(-0.487063197378214, 0.9862907490997324, 'Java'),\n",
              "  Text(-0.8763789793349186, -0.6648006352132092, 'Python'),\n",
              "  Text(0.2682126791984795, -1.0667998681651463, 'PHP'),\n",
              "  Text(0.9194327127562486, -0.6038571741013646, 'JavaScript'),\n",
              "  Text(1.0929137122936012, 0.12465800207214776, 'C#'),\n",
              "  Text(0.8043045524409784, 0.7503960200605527, 'C++')])"
            ]
          },
          "metadata": {},
          "execution_count": 37
        },
        {
          "output_type": "display_data",
          "data": {
            "text/plain": [
              "<Figure size 432x288 with 1 Axes>"
            ],
            "image/png": "[encoded data removed]"
          },
          "metadata": {}
        }
      ]
    }
  ]
}